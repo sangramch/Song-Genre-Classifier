{
  "nbformat": 4,
  "nbformat_minor": 0,
  "metadata": {
    "colab": {
      "name": "Song Genre Classifier.ipynb",
      "version": "0.3.2",
      "provenance": [],
      "collapsed_sections": []
    },
    "kernelspec": {
      "name": "python3",
      "display_name": "Python 3"
    },
    "accelerator": "GPU"
  },
  "cells": [
    {
      "metadata": {
        "id": "X0NxdJjq1BEG",
        "colab_type": "code",
        "colab": {}
      },
      "cell_type": "code",
      "source": [
        "import os\n",
        "import tensorflow as tf\n",
        "import tensorflow.keras as keras"
      ],
      "execution_count": 0,
      "outputs": []
    },
    {
      "metadata": {
        "id": "zp4MLBSb1FGw",
        "colab_type": "code",
        "outputId": "84e819a8-73e4-4fe2-e14d-25d67d40553e",
        "colab": {
          "base_uri": "https://localhost:8080/",
          "height": 122
        }
      },
      "cell_type": "code",
      "source": [
        "from google.colab import drive\n",
        "drive.mount(\"/content/drive\")"
      ],
      "execution_count": 2,
      "outputs": [
        {
          "output_type": "stream",
          "text": [
            "Go to this URL in a browser: https://accounts.google.com/o/oauth2/auth?client_id=947318989803-6bn6qk8qdgf4n4g3pfee6491hc0brc4i.apps.googleusercontent.com&redirect_uri=urn%3Aietf%3Awg%3Aoauth%3A2.0%3Aoob&scope=email%20https%3A%2F%2Fwww.googleapis.com%2Fauth%2Fdocs.test%20https%3A%2F%2Fwww.googleapis.com%2Fauth%2Fdrive%20https%3A%2F%2Fwww.googleapis.com%2Fauth%2Fdrive.photos.readonly%20https%3A%2F%2Fwww.googleapis.com%2Fauth%2Fpeopleapi.readonly&response_type=code\n",
            "\n",
            "Enter your authorization code:\n",
            "··········\n",
            "Mounted at /content/drive\n"
          ],
          "name": "stdout"
        }
      ]
    },
    {
      "metadata": {
        "id": "zxdl2e_h1GqJ",
        "colab_type": "code",
        "colab": {}
      },
      "cell_type": "code",
      "source": [
        "import numpy as np\n",
        "dataset=np.load(\"/content/drive/My Drive/Song Genre/dataset.npz\")"
      ],
      "execution_count": 0,
      "outputs": []
    },
    {
      "metadata": {
        "id": "BUhb7b6O1XPq",
        "colab_type": "code",
        "outputId": "4f26db60-8907-4212-9166-eae0bcfadb9d",
        "colab": {
          "base_uri": "https://localhost:8080/",
          "height": 34
        }
      },
      "cell_type": "code",
      "source": [
        "dataset['arr_0'].shape"
      ],
      "execution_count": 4,
      "outputs": [
        {
          "output_type": "execute_result",
          "data": {
            "text/plain": [
              "(6000, 128, 128)"
            ]
          },
          "metadata": {
            "tags": []
          },
          "execution_count": 4
        }
      ]
    },
    {
      "metadata": {
        "id": "azxKmDlP1Uty",
        "colab_type": "code",
        "colab": {}
      },
      "cell_type": "code",
      "source": [
        "X=dataset['arr_0']\n",
        "y=dataset['arr_1']"
      ],
      "execution_count": 0,
      "outputs": []
    },
    {
      "metadata": {
        "id": "hyOP3EJM_vTH",
        "colab_type": "code",
        "colab": {}
      },
      "cell_type": "code",
      "source": [
        "X=X.reshape(6000,128,128,1)\n",
        "X=X/255.0"
      ],
      "execution_count": 0,
      "outputs": []
    },
    {
      "metadata": {
        "id": "hsFnTjr21Ywl",
        "colab_type": "code",
        "colab": {}
      },
      "cell_type": "code",
      "source": [
        "from sklearn.model_selection import train_test_split\n",
        "X_train,X_test,y_train,y_test=train_test_split(X,y,test_size=0.1,random_state=38)"
      ],
      "execution_count": 0,
      "outputs": []
    },
    {
      "metadata": {
        "id": "GZCDQic-1uDQ",
        "colab_type": "code",
        "colab": {}
      },
      "cell_type": "code",
      "source": [
        "X_train,X_val,y_train,y_val=train_test_split(X_train,y_train,test_size=0.2,random_state=60)"
      ],
      "execution_count": 0,
      "outputs": []
    },
    {
      "metadata": {
        "id": "smqX4ajJ2Owe",
        "colab_type": "code",
        "outputId": "497a043a-80e8-4419-dcaf-c17c9b0624c0",
        "colab": {
          "base_uri": "https://localhost:8080/",
          "height": 34
        }
      },
      "cell_type": "code",
      "source": [
        "print(X_test.shape, y_test.shape)"
      ],
      "execution_count": 9,
      "outputs": [
        {
          "output_type": "stream",
          "text": [
            "(600, 128, 128, 1) (600, 10)\n"
          ],
          "name": "stdout"
        }
      ]
    },
    {
      "metadata": {
        "id": "Re6024Fn2qt5",
        "colab_type": "code",
        "outputId": "752e4840-99e6-499f-e3e7-0ba7ab790733",
        "colab": {
          "base_uri": "https://localhost:8080/",
          "height": 34
        }
      },
      "cell_type": "code",
      "source": [
        "print(X_val.shape,y_val.shape)"
      ],
      "execution_count": 10,
      "outputs": [
        {
          "output_type": "stream",
          "text": [
            "(1080, 128, 128, 1) (1080, 10)\n"
          ],
          "name": "stdout"
        }
      ]
    },
    {
      "metadata": {
        "id": "jC6YGLLZ2_4z",
        "colab_type": "code",
        "outputId": "8170df2e-5a03-4ce4-ff96-51ee9698ce80",
        "colab": {
          "base_uri": "https://localhost:8080/",
          "height": 34
        }
      },
      "cell_type": "code",
      "source": [
        "print(X_train.shape,y_train.shape)"
      ],
      "execution_count": 11,
      "outputs": [
        {
          "output_type": "stream",
          "text": [
            "(4320, 128, 128, 1) (4320, 10)\n"
          ],
          "name": "stdout"
        }
      ]
    },
    {
      "metadata": {
        "id": "1zWiuFMWKkt4",
        "colab_type": "code",
        "colab": {}
      },
      "cell_type": "code",
      "source": [
        ""
      ],
      "execution_count": 0,
      "outputs": []
    },
    {
      "metadata": {
        "id": "1CLFntTI3B_o",
        "colab_type": "code",
        "colab": {}
      },
      "cell_type": "code",
      "source": [
        "from tensorflow.keras.models import Sequential\n",
        "from tensorflow.keras.layers import Dense,Conv2D,Flatten,MaxPooling2D,BatchNormalization,Dropout,InputLayer,AveragePooling2D,Activation,LeakyReLU\n",
        "from tensorflow.keras import optimizers"
      ],
      "execution_count": 0,
      "outputs": []
    },
    {
      "metadata": {
        "id": "ypqlTKuz4AiZ",
        "colab_type": "code",
        "colab": {}
      },
      "cell_type": "code",
      "source": [
        "model=Sequential()\n",
        "\n",
        "model.add(Conv2D(16,kernel_size=3,kernel_initializer='glorot_uniform',padding='same',input_shape=(128,128,1)))\n",
        "model.add(Activation('relu'))\n",
        "model.add(AveragePooling2D(pool_size=2,strides=2))\n",
        "\n",
        "model.add(Conv2D(32,kernel_size=3,kernel_initializer='glorot_uniform',padding='same'))\n",
        "model.add(Activation('relu'))\n",
        "model.add(AveragePooling2D(pool_size=2,strides=2))\n",
        "\n",
        "model.add(Conv2D(64,kernel_size=3,kernel_initializer='glorot_uniform',padding='same'))\n",
        "model.add(Activation('relu'))\n",
        "model.add(AveragePooling2D(pool_size=2,strides=2))\n",
        "\n",
        "model.add(Conv2D(128,kernel_size=3,kernel_initializer='glorot_uniform',padding='same'))\n",
        "model.add(Activation('relu'))\n",
        "model.add(MaxPooling2D(pool_size=2,strides=2))\n",
        "\n",
        "model.add(Conv2D(256,kernel_size=3,kernel_initializer='glorot_uniform',padding='same'))\n",
        "model.add(Activation('relu'))\n",
        "model.add(MaxPooling2D(pool_size=2,strides=2))\n",
        "\n",
        "model.add(Flatten())\n",
        "\n",
        "model.add(Dense(128,kernel_initializer='glorot_uniform'))\n",
        "model.add(Activation('relu'))\n",
        "\n",
        "model.add(Dense(32,kernel_initializer='glorot_uniform'))\n",
        "model.add(Activation('relu'))\n",
        "\n",
        "model.add(Dense(10,activation='softmax'))\n",
        "\n",
        "model.compile(optimizer=\"rmsprop\", loss='categorical_crossentropy', metrics=['accuracy'])"
      ],
      "execution_count": 0,
      "outputs": []
    },
    {
      "metadata": {
        "id": "Ac5vckgf4Nme",
        "colab_type": "code",
        "outputId": "47ce44c8-59dc-4806-acf3-decd574e66cb",
        "colab": {
          "base_uri": "https://localhost:8080/",
          "height": 3434
        }
      },
      "cell_type": "code",
      "source": [
        "stats=model.fit(X_train,y_train,validation_data=(X_val,y_val),epochs=100,batch_size=64)"
      ],
      "execution_count": 140,
      "outputs": [
        {
          "output_type": "stream",
          "text": [
            "Train on 4320 samples, validate on 1080 samples\n",
            "Epoch 1/100\n",
            "4320/4320 [==============================] - 3s 680us/sample - loss: 2.3045 - acc: 0.0912 - val_loss: 2.3016 - val_acc: 0.0963\n",
            "Epoch 2/100\n",
            "4320/4320 [==============================] - 2s 406us/sample - loss: 2.2019 - acc: 0.1627 - val_loss: 2.1005 - val_acc: 0.2565\n",
            "Epoch 3/100\n",
            "4320/4320 [==============================] - 2s 405us/sample - loss: 1.9821 - acc: 0.2792 - val_loss: 1.7826 - val_acc: 0.3324\n",
            "Epoch 4/100\n",
            "4320/4320 [==============================] - 2s 409us/sample - loss: 1.8448 - acc: 0.3259 - val_loss: 1.7106 - val_acc: 0.3769\n",
            "Epoch 5/100\n",
            "4320/4320 [==============================] - 2s 409us/sample - loss: 1.7266 - acc: 0.3632 - val_loss: 1.6081 - val_acc: 0.3963\n",
            "Epoch 6/100\n",
            "4320/4320 [==============================] - 2s 412us/sample - loss: 1.6283 - acc: 0.3896 - val_loss: 1.5085 - val_acc: 0.4352\n",
            "Epoch 7/100\n",
            "4320/4320 [==============================] - 2s 416us/sample - loss: 1.5558 - acc: 0.4169 - val_loss: 1.4264 - val_acc: 0.4750\n",
            "Epoch 8/100\n",
            "4320/4320 [==============================] - 2s 416us/sample - loss: 1.5240 - acc: 0.4306 - val_loss: 1.3373 - val_acc: 0.5102\n",
            "Epoch 9/100\n",
            "4320/4320 [==============================] - 2s 420us/sample - loss: 1.4538 - acc: 0.4609 - val_loss: 1.6699 - val_acc: 0.3796\n",
            "Epoch 10/100\n",
            "4320/4320 [==============================] - 2s 420us/sample - loss: 1.4092 - acc: 0.4750 - val_loss: 1.3326 - val_acc: 0.4954\n",
            "Epoch 11/100\n",
            "4320/4320 [==============================] - 2s 418us/sample - loss: 1.3577 - acc: 0.4951 - val_loss: 1.3513 - val_acc: 0.4898\n",
            "Epoch 12/100\n",
            "4320/4320 [==============================] - 2s 420us/sample - loss: 1.3059 - acc: 0.5204 - val_loss: 1.2461 - val_acc: 0.5444\n",
            "Epoch 13/100\n",
            "4320/4320 [==============================] - 2s 409us/sample - loss: 1.2687 - acc: 0.5282 - val_loss: 1.2280 - val_acc: 0.5565\n",
            "Epoch 14/100\n",
            "4320/4320 [==============================] - 2s 409us/sample - loss: 1.2251 - acc: 0.5512 - val_loss: 1.1250 - val_acc: 0.5843\n",
            "Epoch 15/100\n",
            "4320/4320 [==============================] - 2s 407us/sample - loss: 1.1745 - acc: 0.5641 - val_loss: 1.0409 - val_acc: 0.6056\n",
            "Epoch 16/100\n",
            "4320/4320 [==============================] - 2s 409us/sample - loss: 1.1267 - acc: 0.5880 - val_loss: 1.1193 - val_acc: 0.5954\n",
            "Epoch 17/100\n",
            "4320/4320 [==============================] - 2s 408us/sample - loss: 1.0673 - acc: 0.6194 - val_loss: 1.1411 - val_acc: 0.5852\n",
            "Epoch 18/100\n",
            "4320/4320 [==============================] - 2s 408us/sample - loss: 1.0462 - acc: 0.6280 - val_loss: 1.2683 - val_acc: 0.5546\n",
            "Epoch 19/100\n",
            "4320/4320 [==============================] - 2s 408us/sample - loss: 1.0096 - acc: 0.6340 - val_loss: 1.1484 - val_acc: 0.6139\n",
            "Epoch 20/100\n",
            "4320/4320 [==============================] - 2s 408us/sample - loss: 0.9778 - acc: 0.6396 - val_loss: 1.0040 - val_acc: 0.6139\n",
            "Epoch 21/100\n",
            "4320/4320 [==============================] - 2s 409us/sample - loss: 0.9225 - acc: 0.6718 - val_loss: 1.4697 - val_acc: 0.4778\n",
            "Epoch 22/100\n",
            "4320/4320 [==============================] - 2s 408us/sample - loss: 0.9110 - acc: 0.6681 - val_loss: 1.0054 - val_acc: 0.6407\n",
            "Epoch 23/100\n",
            "4320/4320 [==============================] - 2s 412us/sample - loss: 0.8876 - acc: 0.6836 - val_loss: 0.9343 - val_acc: 0.6685\n",
            "Epoch 24/100\n",
            "4320/4320 [==============================] - 2s 405us/sample - loss: 0.8157 - acc: 0.7044 - val_loss: 1.0634 - val_acc: 0.6111\n",
            "Epoch 25/100\n",
            "4320/4320 [==============================] - 2s 407us/sample - loss: 0.7927 - acc: 0.7090 - val_loss: 0.9449 - val_acc: 0.6574\n",
            "Epoch 26/100\n",
            "4320/4320 [==============================] - 2s 408us/sample - loss: 0.7692 - acc: 0.7183 - val_loss: 0.9525 - val_acc: 0.6843\n",
            "Epoch 27/100\n",
            "4320/4320 [==============================] - 2s 403us/sample - loss: 0.7011 - acc: 0.7498 - val_loss: 0.9865 - val_acc: 0.6537\n",
            "Epoch 28/100\n",
            "4320/4320 [==============================] - 2s 405us/sample - loss: 0.6837 - acc: 0.7565 - val_loss: 0.9581 - val_acc: 0.6843\n",
            "Epoch 29/100\n",
            "4320/4320 [==============================] - 2s 403us/sample - loss: 0.6699 - acc: 0.7639 - val_loss: 0.8750 - val_acc: 0.6907\n",
            "Epoch 30/100\n",
            "4320/4320 [==============================] - 2s 403us/sample - loss: 0.6136 - acc: 0.7815 - val_loss: 0.8977 - val_acc: 0.6907\n",
            "Epoch 31/100\n",
            "4320/4320 [==============================] - 2s 402us/sample - loss: 0.5788 - acc: 0.7940 - val_loss: 0.9368 - val_acc: 0.6611\n",
            "Epoch 32/100\n",
            "4320/4320 [==============================] - 2s 403us/sample - loss: 0.5373 - acc: 0.8093 - val_loss: 1.0760 - val_acc: 0.6130\n",
            "Epoch 33/100\n",
            "4320/4320 [==============================] - 2s 402us/sample - loss: 0.5144 - acc: 0.8222 - val_loss: 0.7897 - val_acc: 0.7380\n",
            "Epoch 34/100\n",
            "4320/4320 [==============================] - 2s 412us/sample - loss: 0.4778 - acc: 0.8317 - val_loss: 0.9321 - val_acc: 0.6991\n",
            "Epoch 35/100\n",
            "4320/4320 [==============================] - 2s 420us/sample - loss: 0.4249 - acc: 0.8465 - val_loss: 0.9761 - val_acc: 0.6796\n",
            "Epoch 36/100\n",
            "4320/4320 [==============================] - 2s 416us/sample - loss: 0.4150 - acc: 0.8512 - val_loss: 0.8697 - val_acc: 0.7111\n",
            "Epoch 37/100\n",
            "4320/4320 [==============================] - 2s 408us/sample - loss: 0.3782 - acc: 0.8625 - val_loss: 0.8826 - val_acc: 0.7194\n",
            "Epoch 38/100\n",
            "4320/4320 [==============================] - 2s 410us/sample - loss: 0.3503 - acc: 0.8759 - val_loss: 1.0727 - val_acc: 0.6741\n",
            "Epoch 39/100\n",
            "4320/4320 [==============================] - 2s 404us/sample - loss: 0.3457 - acc: 0.8792 - val_loss: 0.9613 - val_acc: 0.7389\n",
            "Epoch 40/100\n",
            "4320/4320 [==============================] - 2s 409us/sample - loss: 0.3096 - acc: 0.8963 - val_loss: 1.0349 - val_acc: 0.7056\n",
            "Epoch 41/100\n",
            "4320/4320 [==============================] - 2s 403us/sample - loss: 0.2880 - acc: 0.9042 - val_loss: 0.8223 - val_acc: 0.7593\n",
            "Epoch 42/100\n",
            "4320/4320 [==============================] - 2s 406us/sample - loss: 0.2547 - acc: 0.9125 - val_loss: 0.9667 - val_acc: 0.7019\n",
            "Epoch 43/100\n",
            "4320/4320 [==============================] - 2s 406us/sample - loss: 0.2397 - acc: 0.9206 - val_loss: 1.6491 - val_acc: 0.5981\n",
            "Epoch 44/100\n",
            "4320/4320 [==============================] - 2s 405us/sample - loss: 0.2382 - acc: 0.9243 - val_loss: 1.1975 - val_acc: 0.7167\n",
            "Epoch 45/100\n",
            "4320/4320 [==============================] - 2s 405us/sample - loss: 0.2511 - acc: 0.9153 - val_loss: 1.0304 - val_acc: 0.7009\n",
            "Epoch 46/100\n",
            "4320/4320 [==============================] - 2s 408us/sample - loss: 0.1743 - acc: 0.9405 - val_loss: 1.1211 - val_acc: 0.7324\n",
            "Epoch 47/100\n",
            "4320/4320 [==============================] - 2s 407us/sample - loss: 0.1949 - acc: 0.9368 - val_loss: 1.0106 - val_acc: 0.7259\n",
            "Epoch 48/100\n",
            "4320/4320 [==============================] - 2s 405us/sample - loss: 0.1843 - acc: 0.9387 - val_loss: 1.1084 - val_acc: 0.7009\n",
            "Epoch 49/100\n",
            "4320/4320 [==============================] - 2s 405us/sample - loss: 0.1597 - acc: 0.9558 - val_loss: 1.1388 - val_acc: 0.7500\n",
            "Epoch 50/100\n",
            "4320/4320 [==============================] - 2s 407us/sample - loss: 0.1711 - acc: 0.9477 - val_loss: 1.0257 - val_acc: 0.7583\n",
            "Epoch 51/100\n",
            "4320/4320 [==============================] - 2s 407us/sample - loss: 0.1525 - acc: 0.9535 - val_loss: 0.9284 - val_acc: 0.7778\n",
            "Epoch 52/100\n",
            "4320/4320 [==============================] - 2s 411us/sample - loss: 0.1471 - acc: 0.9539 - val_loss: 1.2248 - val_acc: 0.6815\n",
            "Epoch 53/100\n",
            "4320/4320 [==============================] - 2s 419us/sample - loss: 0.1053 - acc: 0.9685 - val_loss: 1.9573 - val_acc: 0.6139\n",
            "Epoch 54/100\n",
            "4320/4320 [==============================] - 2s 416us/sample - loss: 0.1428 - acc: 0.9590 - val_loss: 1.0756 - val_acc: 0.7583\n",
            "Epoch 55/100\n",
            "4320/4320 [==============================] - 2s 419us/sample - loss: 0.1472 - acc: 0.9604 - val_loss: 0.9995 - val_acc: 0.7685\n",
            "Epoch 56/100\n",
            "4320/4320 [==============================] - 2s 418us/sample - loss: 0.1286 - acc: 0.9565 - val_loss: 1.0083 - val_acc: 0.7694\n",
            "Epoch 57/100\n",
            "4320/4320 [==============================] - 2s 417us/sample - loss: 0.0923 - acc: 0.9688 - val_loss: 1.1526 - val_acc: 0.7491\n",
            "Epoch 58/100\n",
            "4320/4320 [==============================] - 2s 413us/sample - loss: 0.1269 - acc: 0.9613 - val_loss: 1.2872 - val_acc: 0.7111\n",
            "Epoch 59/100\n",
            "4320/4320 [==============================] - 2s 407us/sample - loss: 0.1233 - acc: 0.9692 - val_loss: 0.9893 - val_acc: 0.7574\n",
            "Epoch 60/100\n",
            "4320/4320 [==============================] - 2s 406us/sample - loss: 0.1003 - acc: 0.9708 - val_loss: 0.9599 - val_acc: 0.7833\n",
            "Epoch 61/100\n",
            "4320/4320 [==============================] - 2s 407us/sample - loss: 0.0957 - acc: 0.9715 - val_loss: 1.6685 - val_acc: 0.6685\n",
            "Epoch 62/100\n",
            "4320/4320 [==============================] - 2s 407us/sample - loss: 0.1250 - acc: 0.9627 - val_loss: 1.4138 - val_acc: 0.7352\n",
            "Epoch 63/100\n",
            "4320/4320 [==============================] - 2s 406us/sample - loss: 0.1005 - acc: 0.9711 - val_loss: 1.3558 - val_acc: 0.7426\n",
            "Epoch 64/100\n",
            "4320/4320 [==============================] - 2s 407us/sample - loss: 0.0686 - acc: 0.9792 - val_loss: 1.8326 - val_acc: 0.7167\n",
            "Epoch 65/100\n",
            "4320/4320 [==============================] - 2s 408us/sample - loss: 0.1104 - acc: 0.9699 - val_loss: 2.0093 - val_acc: 0.6870\n",
            "Epoch 66/100\n",
            "4320/4320 [==============================] - 2s 404us/sample - loss: 0.1604 - acc: 0.9653 - val_loss: 1.3158 - val_acc: 0.7287\n",
            "Epoch 67/100\n",
            "4320/4320 [==============================] - 2s 403us/sample - loss: 0.0725 - acc: 0.9794 - val_loss: 1.2074 - val_acc: 0.7556\n",
            "Epoch 68/100\n",
            "4320/4320 [==============================] - 2s 408us/sample - loss: 0.1001 - acc: 0.9711 - val_loss: 1.1738 - val_acc: 0.7639\n",
            "Epoch 69/100\n",
            "4320/4320 [==============================] - 2s 405us/sample - loss: 0.1264 - acc: 0.9694 - val_loss: 1.0506 - val_acc: 0.7704\n",
            "Epoch 70/100\n",
            "4320/4320 [==============================] - 2s 405us/sample - loss: 0.1398 - acc: 0.9664 - val_loss: 1.1223 - val_acc: 0.7676\n",
            "Epoch 71/100\n",
            "4320/4320 [==============================] - 2s 408us/sample - loss: 0.0800 - acc: 0.9775 - val_loss: 1.3595 - val_acc: 0.7481\n",
            "Epoch 72/100\n",
            "4320/4320 [==============================] - 2s 406us/sample - loss: 0.0923 - acc: 0.9727 - val_loss: 1.1642 - val_acc: 0.7870\n",
            "Epoch 73/100\n",
            "4320/4320 [==============================] - 2s 407us/sample - loss: 0.1109 - acc: 0.9738 - val_loss: 1.5546 - val_acc: 0.7056\n",
            "Epoch 74/100\n",
            "4320/4320 [==============================] - 2s 405us/sample - loss: 0.0631 - acc: 0.9838 - val_loss: 1.1473 - val_acc: 0.7722\n",
            "Epoch 75/100\n",
            "4320/4320 [==============================] - 2s 411us/sample - loss: 0.0973 - acc: 0.9775 - val_loss: 1.2838 - val_acc: 0.7676\n",
            "Epoch 76/100\n",
            "4320/4320 [==============================] - 2s 406us/sample - loss: 0.0856 - acc: 0.9792 - val_loss: 1.2607 - val_acc: 0.7528\n",
            "Epoch 77/100\n",
            "4320/4320 [==============================] - 2s 406us/sample - loss: 0.0996 - acc: 0.9785 - val_loss: 1.2350 - val_acc: 0.7611\n",
            "Epoch 78/100\n",
            "4320/4320 [==============================] - 2s 407us/sample - loss: 0.0585 - acc: 0.9806 - val_loss: 1.2880 - val_acc: 0.7722\n",
            "Epoch 79/100\n",
            "4320/4320 [==============================] - 2s 404us/sample - loss: 0.0616 - acc: 0.9787 - val_loss: 1.3936 - val_acc: 0.7333\n",
            "Epoch 80/100\n",
            "4320/4320 [==============================] - 2s 406us/sample - loss: 0.0843 - acc: 0.9734 - val_loss: 1.5077 - val_acc: 0.7231\n",
            "Epoch 81/100\n",
            "4320/4320 [==============================] - 2s 404us/sample - loss: 0.1107 - acc: 0.9725 - val_loss: 1.2282 - val_acc: 0.7593\n",
            "Epoch 82/100\n",
            "4320/4320 [==============================] - 2s 404us/sample - loss: 0.0670 - acc: 0.9824 - val_loss: 1.4437 - val_acc: 0.7333\n",
            "Epoch 83/100\n",
            "4320/4320 [==============================] - 2s 407us/sample - loss: 0.0523 - acc: 0.9833 - val_loss: 1.8736 - val_acc: 0.6889\n",
            "Epoch 84/100\n",
            "4320/4320 [==============================] - 2s 407us/sample - loss: 0.0613 - acc: 0.9817 - val_loss: 1.2899 - val_acc: 0.7713\n",
            "Epoch 85/100\n",
            "4320/4320 [==============================] - 2s 405us/sample - loss: 0.0604 - acc: 0.9873 - val_loss: 1.3271 - val_acc: 0.7806\n",
            "Epoch 86/100\n",
            "4320/4320 [==============================] - 2s 408us/sample - loss: 0.1185 - acc: 0.9701 - val_loss: 1.4382 - val_acc: 0.7370\n",
            "Epoch 87/100\n",
            "4320/4320 [==============================] - 2s 408us/sample - loss: 0.0467 - acc: 0.9891 - val_loss: 1.6197 - val_acc: 0.7583\n",
            "Epoch 88/100\n",
            "4320/4320 [==============================] - 2s 403us/sample - loss: 0.0703 - acc: 0.9836 - val_loss: 1.2467 - val_acc: 0.7787\n",
            "Epoch 89/100\n",
            "4320/4320 [==============================] - 2s 404us/sample - loss: 0.0617 - acc: 0.9808 - val_loss: 1.3548 - val_acc: 0.7528\n",
            "Epoch 90/100\n",
            "4320/4320 [==============================] - 2s 406us/sample - loss: 0.0610 - acc: 0.9836 - val_loss: 1.3972 - val_acc: 0.7778\n",
            "Epoch 91/100\n",
            "4320/4320 [==============================] - 2s 406us/sample - loss: 0.0620 - acc: 0.9836 - val_loss: 1.2856 - val_acc: 0.7676\n",
            "Epoch 92/100\n",
            "4320/4320 [==============================] - 2s 407us/sample - loss: 0.0382 - acc: 0.9891 - val_loss: 1.2686 - val_acc: 0.7880\n",
            "Epoch 93/100\n",
            "4320/4320 [==============================] - 2s 408us/sample - loss: 0.0542 - acc: 0.9861 - val_loss: 1.6529 - val_acc: 0.7657\n",
            "Epoch 94/100\n",
            "4320/4320 [==============================] - 2s 408us/sample - loss: 0.0732 - acc: 0.9792 - val_loss: 1.2126 - val_acc: 0.7704\n",
            "Epoch 95/100\n",
            "4320/4320 [==============================] - 2s 403us/sample - loss: 0.0578 - acc: 0.9863 - val_loss: 1.6994 - val_acc: 0.7380\n",
            "Epoch 96/100\n",
            "4320/4320 [==============================] - 2s 405us/sample - loss: 0.0501 - acc: 0.9852 - val_loss: 1.6782 - val_acc: 0.7481\n",
            "Epoch 97/100\n",
            "4320/4320 [==============================] - 2s 405us/sample - loss: 0.0704 - acc: 0.9796 - val_loss: 1.2850 - val_acc: 0.7787\n",
            "Epoch 98/100\n",
            "4320/4320 [==============================] - 2s 416us/sample - loss: 0.0537 - acc: 0.9856 - val_loss: 1.8640 - val_acc: 0.7194\n",
            "Epoch 99/100\n",
            "4320/4320 [==============================] - 2s 414us/sample - loss: 0.0466 - acc: 0.9868 - val_loss: 1.3520 - val_acc: 0.7796\n",
            "Epoch 100/100\n",
            "4320/4320 [==============================] - 2s 418us/sample - loss: 0.0663 - acc: 0.9861 - val_loss: 1.3468 - val_acc: 0.7796\n"
          ],
          "name": "stdout"
        }
      ]
    },
    {
      "metadata": {
        "id": "lRH1Jl-K4USB",
        "colab_type": "code",
        "outputId": "8b848c80-1070-470c-e355-499064b60127",
        "colab": {
          "base_uri": "https://localhost:8080/",
          "height": 51
        }
      },
      "cell_type": "code",
      "source": [
        "model.evaluate(X_test,y_test)"
      ],
      "execution_count": 141,
      "outputs": [
        {
          "output_type": "stream",
          "text": [
            "600/600 [==============================] - 0s 261us/sample - loss: 1.6864 - acc: 0.7767\n"
          ],
          "name": "stdout"
        },
        {
          "output_type": "execute_result",
          "data": {
            "text/plain": [
              "[1.6863536914189656, 0.77666664]"
            ]
          },
          "metadata": {
            "tags": []
          },
          "execution_count": 141
        }
      ]
    },
    {
      "metadata": {
        "id": "grnT96dcEVSI",
        "colab_type": "code",
        "colab": {}
      },
      "cell_type": "code",
      "source": [
        "import matplotlib.pyplot as plt"
      ],
      "execution_count": 0,
      "outputs": []
    },
    {
      "metadata": {
        "id": "gt38S9iq-YaA",
        "colab_type": "code",
        "colab": {
          "base_uri": "https://localhost:8080/",
          "height": 312
        },
        "outputId": "8fab31e8-e243-4b99-d4ef-424f70001c99"
      },
      "cell_type": "code",
      "source": [
        "plt.plot(stats.history[\"acc\"])\n",
        "plt.plot(stats.history['val_acc'])\n",
        "plt.title('Model accuracy')\n",
        "plt.ylabel('Accuracy')\n",
        "plt.xlabel('Epoch')\n",
        "plt.legend(['Train', 'Test'], loc='lower right')"
      ],
      "execution_count": 143,
      "outputs": [
        {
          "output_type": "execute_result",
          "data": {
            "text/plain": [
              "<matplotlib.legend.Legend at 0x7f6dbd7b6fd0>"
            ]
          },
          "metadata": {
            "tags": []
          },
          "execution_count": 143
        },
        {
          "output_type": "display_data",
          "data": {
            "image/png": "[encoded data removed]",
            "text/plain": [
              "<Figure size 432x288 with 1 Axes>"
            ]
          },
          "metadata": {
            "tags": []
          }
        }
      ]
    },
    {
      "metadata": {
        "id": "UzOpSE8Rh_x2",
        "colab_type": "code",
        "colab": {
          "base_uri": "https://localhost:8080/",
          "height": 312
        },
        "outputId": "5ac18d1c-b811-4585-bb79-45d0a319bbe7"
      },
      "cell_type": "code",
      "source": [
        "plt.plot(stats.history['loss'])\n",
        "plt.plot(stats.history['val_loss'])\n",
        "plt.title('Model loss')\n",
        "plt.ylabel('Loss')\n",
        "plt.xlabel('Epoch')\n",
        "plt.legend(['Train', 'Test'], loc='lower right')"
      ],
      "execution_count": 144,
      "outputs": [
        {
          "output_type": "execute_result",
          "data": {
            "text/plain": [
              "<matplotlib.legend.Legend at 0x7f6dbd704a58>"
            ]
          },
          "metadata": {
            "tags": []
          },
          "execution_count": 144
        },
        {
          "output_type": "display_data",
          "data": {
            "image/png": "[encoded data removed]",
            "text/plain": [
              "<Figure size 432x288 with 1 Axes>"
            ]
          },
          "metadata": {
            "tags": []
          }
        }
      ]
    },
    {
      "metadata": {
        "id": "3WQxPR0tEafw",
        "colab_type": "code",
        "colab": {
          "base_uri": "https://localhost:8080/",
          "height": 34
        },
        "outputId": "55677d2c-591c-4a40-8a28-431791f9b863"
      },
      "cell_type": "code",
      "source": [
        "max(stats.history['val_acc'])"
      ],
      "execution_count": 145,
      "outputs": [
        {
          "output_type": "execute_result",
          "data": {
            "text/plain": [
              "0.787963"
            ]
          },
          "metadata": {
            "tags": []
          },
          "execution_count": 145
        }
      ]
    },
    {
      "metadata": {
        "id": "zGwwagjkEmH3",
        "colab_type": "code",
        "colab": {}
      },
      "cell_type": "code",
      "source": [
        "model.save(\"model.h5\")"
      ],
      "execution_count": 0,
      "outputs": []
    },
    {
      "metadata": {
        "id": "iY3dMzU2QBNF",
        "colab_type": "code",
        "colab": {}
      },
      "cell_type": "code",
      "source": [
        "from google.colab import files\n",
        "files.download('model.h5') "
      ],
      "execution_count": 0,
      "outputs": []
    }
  ]
}